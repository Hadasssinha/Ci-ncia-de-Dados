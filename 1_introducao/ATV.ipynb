{
  "nbformat": 4,
  "nbformat_minor": 0,
  "metadata": {
    "colab": {
      "name": "ATV.ipynb",
      "provenance": [],
      "collapsed_sections": [],
      "authorship_tag": "ABX9TyOKMBiWXXYSwTTGDjYZmaCN",
      "include_colab_link": true
    },
    "kernelspec": {
      "name": "python3",
      "display_name": "Python 3"
    },
    "language_info": {
      "name": "python"
    }
  },
  "cells": [
    {
      "cell_type": "markdown",
      "metadata": {
        "id": "view-in-github",
        "colab_type": "text"
      },
      "source": [
        "<a href=\"https://colab.research.google.com/github/Hadasssinha/Ci-ncia-de-Dados/blob/Hadasssinha-patch-1/1_introducao/ATV.ipynb\" target=\"_parent\"><img src=\"https://colab.research.google.com/assets/colab-badge.svg\" alt=\"Open In Colab\"/></a>"
      ]
    },
    {
      "cell_type": "code",
      "metadata": {
        "id": "BHD8qDHtSAiB"
      },
      "source": [
        "# executar só uma linha de código: selecione-a e clique \"CTRL + SHIFT + ENTER\""
      ],
      "execution_count": null,
      "outputs": []
    },
    {
      "cell_type": "markdown",
      "metadata": {
        "id": "V2DpnvFRpKUN"
      },
      "source": [
        "# Seção 1"
      ]
    },
    {
      "cell_type": "markdown",
      "metadata": {
        "id": "I_2EWThzpUQE"
      },
      "source": [
        "##Subseção"
      ]
    },
    {
      "cell_type": "code",
      "metadata": {
        "id": "54lSVzoNd1rA"
      },
      "source": [
        "numbers = [1,2,3,4,5] # criação da lista"
      ],
      "execution_count": null,
      "outputs": []
    },
    {
      "cell_type": "code",
      "metadata": {
        "id": "COEJAnWqefIf"
      },
      "source": [
        "import numpy"
      ],
      "execution_count": null,
      "outputs": []
    },
    {
      "cell_type": "code",
      "metadata": {
        "id": "jZbqdA7Heco5"
      },
      "source": [
        "# média\n",
        "numpy.mean(numbers)"
      ],
      "execution_count": null,
      "outputs": []
    },
    {
      "cell_type": "code",
      "metadata": {
        "colab": {
          "base_uri": "https://localhost:8080/"
        },
        "id": "QPc2FGhKekPP",
        "outputId": "775749ba-7f8f-4aae-c131-30f2c4fa1d90"
      },
      "source": [
        "# mediana\n",
        "numpy.median(numbers)"
      ],
      "execution_count": null,
      "outputs": [
        {
          "output_type": "execute_result",
          "data": {
            "text/plain": [
              "3.0"
            ]
          },
          "metadata": {
            "tags": []
          },
          "execution_count": 10
        }
      ]
    },
    {
      "cell_type": "code",
      "metadata": {
        "colab": {
          "base_uri": "https://localhost:8080/"
        },
        "id": "_rohNPXpewL3",
        "outputId": "11dfb51c-db27-41ad-e826-e6b436dbeb79"
      },
      "source": [
        "# desvio padrão: avalia a distancia do elemento em relação à média da lista\n",
        "# a diferença entre o D.P da amostra e da população na fórmula é o denominador (n-1) \n",
        "\n",
        "numpy.std(numbers) # cálculo usando a função\n",
        "\n",
        "import math # para que eu consiga calcular a raiz quadrada na linha 15\n",
        "\n",
        "[1,2,3,4,5] # cálculo sem a função\n",
        "xi = 1 # 2... 3... 4...5\n",
        "xl = numpy.mean(numbers) # 3.0\n",
        "\n",
        "somatorio += (xi - xl) ** 2 # somando todos os elementos no 'for' - loop\n",
        "\n",
        "variancia = somatorio / len(numbers) # pega o resultado do somatório e dividi pelo n° de elementos\n",
        "\n",
        "std = math.sqrt(variancia) # calcula a raiz quadrada\n",
        "\n",
        "# Obs. Pelo fato de ser a operação inversa da potenciação, a raiz quadrada pode ser calculada como:\n",
        "\n",
        "std = variancia ** 0,5 # calcula a raiz usando a lógica inversa da potenciação "
      ],
      "execution_count": null,
      "outputs": [
        {
          "output_type": "execute_result",
          "data": {
            "text/plain": [
              "1.4142135623730951"
            ]
          },
          "metadata": {
            "tags": []
          },
          "execution_count": 11
        }
      ]
    },
    {
      "cell_type": "markdown",
      "metadata": {
        "id": "ywIRz4LKpomd"
      },
      "source": [
        "#Seção 2"
      ]
    },
    {
      "cell_type": "code",
      "metadata": {
        "id": "o8SQIe-K_yam"
      },
      "source": [
        "# Exercício 2\n",
        "# Agora que você já aprendeu como calcular a média aritmética, a mediana e o desvio padrão.\n",
        "# Faça a programação de suas próprias funções em Python para calcular esses três valores,\n",
        "# isso sem utilizar o Numpy ou qualquer outra função pronta.\n",
        " \n",
        "# Exemplo/template para o exercício 2\n",
        "def media(x):\n",
        "  m = sum(x)/len(x)\n",
        "  return m\n",
        " \n",
        "array1 = [1,2,3,5,7]\n",
        "media(array1)"
      ],
      "execution_count": null,
      "outputs": []
    },
    {
      "cell_type": "code",
      "metadata": {
        "colab": {
          "base_uri": "https://localhost:8080/"
        },
        "id": "WeqI9_w32do1",
        "outputId": "2864e920-01ab-424b-e323-97e17c577578"
      },
      "source": [
        "def media(x):\n",
        "  s = 0\n",
        "  q = 0\n",
        " \n",
        "  for v in x:\n",
        "    s += v\n",
        "    q += 1\n",
        " \n",
        "  m = s/q\n",
        "  return m\n",
        " \n",
        "array1 = [1,2,3,5,7]\n",
        "media(array1)"
      ],
      "execution_count": null,
      "outputs": [
        {
          "output_type": "execute_result",
          "data": {
            "text/plain": [
              "3.6"
            ]
          },
          "metadata": {
            "tags": []
          },
          "execution_count": 58
        }
      ]
    },
    {
      "cell_type": "code",
      "metadata": {
        "colab": {
          "base_uri": "https://localhost:8080/"
        },
        "id": "yVLYQjW_4Jz0",
        "outputId": "e1e5042e-f40b-4bc5-8913-ddf7b4d68a0a"
      },
      "source": [
        "def mediana (x):  # 1. função para calcular a mediana\n",
        "  lista = []\n",
        "  j=0\n",
        "  v=0\n",
        "  s=0\n",
        "                      # colocando a array em ordem crescente\n",
        "  for i in x:               # 2. laço para checar valores da 'array1' (que é o 'x')   \n",
        "    \n",
        "    if (x[v] == j):         # 3. averigua se o valor da 'array1' na posição 'v' é IGUAL   \n",
        "                                # ao valor de 'j' \n",
        "      lista.insert(v, j)    # 4. Insere o mesmo valor de 'j' na posição 'i' da lista\n",
        "      \n",
        "    elif (x[v] > j):        # 5. averigua se a 'array1' na posição 'v' é MAIOR do  \n",
        "                                # que o valor de 'j'\n",
        "      j = x[v]              # 6. modifica o valor de 'j' para o mesmo da 'array1' na posição 'v'\n",
        "      lista.append(j)       # 7. adiciona ao FINAL da lista o valor da 'array1' na posição 'v'                  \n",
        "    elif (x[v] < j):        # 8. verifica se a 'array1' na posição 'v' é MENOR que o valor \n",
        "                                # de 'j' \n",
        "      j = x[v]              # 9. modifica o valor de 'j' para o mesmo da 'array1' na posição 'v'\n",
        "      lista.insert(v-1, j)  # 10. insere uma posição ANTES de 'j' no índice da lista \n",
        "                                # o mesmo valor da 'array1' na posição 'v'\n",
        "    s += x[v]               # 11. Soma dos valores da lista\n",
        "    v+=1                    # 12. Incrementando para checar o próximo valor da 'array1'\n",
        "    \n",
        "  print(lista)\n",
        "  print('Quantidades de elementos na lista: ', int(v))\n",
        "  \n",
        "  if(v%2) == 0:\n",
        "    print('Par')\n",
        "    v1 = int((v/2)-1)       # calcula o primeiro valor a ser somado na mediana\n",
        "    v2 = int(v1+1)          # calcula o segundo valor a ser somado na mediana\n",
        "                            # Obs.: o -1 é para compensar a existência da posição 0 na lista\n",
        "    print('Os valores centrais são: ', x[int(v1)], x[int(v2)])            \n",
        "\n",
        "    m = 'A mediana é: ', int(x[v1] + x[v2])/2   # a mediana é a soma dos dois valores centrais da lista divididos por 2\n",
        "\n",
        "  else:\n",
        "    print('Ímpar')\n",
        "    m = ('A mediana é: ', x[int((v/2+0.5)-1)]) # a mediana é o número central da lista\n",
        "                           \n",
        "                            # Obs.: o -1 é para compensar a existência da posição 0 na lista\n",
        "  \n",
        "  return m\n",
        "\n",
        "array1 = [1,2,3,5,7]\n",
        "mediana(array1)"
      ],
      "execution_count": null,
      "outputs": [
        {
          "output_type": "stream",
          "text": [
            "[1, 2, 3, 5, 7]\n",
            "Quantidades de elementos na lista:  5\n",
            "Ímpar\n"
          ],
          "name": "stdout"
        },
        {
          "output_type": "execute_result",
          "data": {
            "text/plain": [
              "('A mediana é: ', 3)"
            ]
          },
          "metadata": {
            "tags": []
          },
          "execution_count": 126
        }
      ]
    },
    {
      "cell_type": "code",
      "metadata": {
        "colab": {
          "base_uri": "https://localhost:8080/"
        },
        "id": "UA8FqEH8Lidv",
        "outputId": "3e06c514-3d8e-4db3-d42d-5220050a6be1"
      },
      "source": [
        "def mediana (x):  # 1. função para calcular o desvio padrão\n",
        "  som = 0\n",
        "  q = 0\n",
        " \n",
        "  for v in x:\n",
        "    som += v      # 2. soma dos valores na lista\n",
        "    q += 1        # 3. soma de quantos valores há na lista\n",
        " \n",
        "  m = som/q       # 4. médias das variáveis acima\n",
        "\n",
        "  som2 = 0\n",
        "  for i in x:               # 5. laço para subtrair de cada um dos valores da lista   \n",
        "    som2 += (i-3.6)**2          # a média aferida anteriormente, depois elevar a 2\n",
        "                                # e guardar a soma dos resultados na variável som2                  \n",
        "  r = (som2/q) ** 0.5       # 6. tirar a raiz quadrada de som2\n",
        "  return r\n",
        "\n",
        "array1 = [1,2,3,5,7]\n",
        "mediana(array1)"
      ],
      "execution_count": 6,
      "outputs": [
        {
          "output_type": "execute_result",
          "data": {
            "text/plain": [
              "2.1540659228538015"
            ]
          },
          "metadata": {
            "tags": []
          },
          "execution_count": 6
        }
      ]
    }
  ]
}
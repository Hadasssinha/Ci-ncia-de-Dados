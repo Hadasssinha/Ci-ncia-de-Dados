{
  "nbformat": 4,
  "nbformat_minor": 0,
  "metadata": {
    "colab": {
      "name": "ATV3 1.9/1.10 - Pandas: conteúdo e exercícios.ipynb",
      "provenance": [],
      "collapsed_sections": [],
      "include_colab_link": true
    },
    "kernelspec": {
      "name": "python3",
      "display_name": "Python 3"
    }
  },
  "cells": [
    {
      "cell_type": "markdown",
      "metadata": {
        "id": "view-in-github",
        "colab_type": "text"
      },
      "source": [
        "<a href=\"https://colab.research.google.com/github/Hadasssinha/Ci-ncia-de-Dados/blob/Hadasssinha-patch-1/1_introducao/ATV3_1_9_1_10_Pandas_conte%C3%BAdo_e_exerc%C3%ADcios.ipynb\" target=\"_parent\"><img src=\"https://colab.research.google.com/assets/colab-badge.svg\" alt=\"Open In Colab\"/></a>"
      ]
    },
    {
      "cell_type": "markdown",
      "metadata": {
        "id": "URO2ILlK2aMV"
      },
      "source": [
        "## 1.9 - Exercício de Pandas (submeter pelo Canvas)"
      ]
    },
    {
      "cell_type": "code",
      "metadata": {
        "id": "Inm6s1xq2Pfz",
        "colab": {
          "base_uri": "https://localhost:8080/",
          "height": 862
        },
        "outputId": "d74b4653-736c-4e75-8ef8-988538bfd06d"
      },
      "source": [
        "from pandas import DataFrame, Series\n",
        "\n",
        "#################\n",
        "# Lembrete de sintaxe:\n",
        "# O seguinte código criará um DataFrame com duas colunas\n",
        "# nomeado df com as colunas 'name' e 'age':\n",
        "#\n",
        "# people = ['Sarah', 'Mike', 'Chrisna']\n",
        "# ages  =  [28, 32, 25]\n",
        "# df = DataFrame({'name' : Series(people),\n",
        "#                 'age'  : Series(ages)})\n",
        "\n",
        "def create_dataframe():\n",
        "    '''\n",
        "    Create a pandas dataframe called 'olympic_medal_counts_df' containing\n",
        "    the data from the table of 2014 Sochi winter olympics medal counts.  \n",
        "\n",
        "    The columns for this dataframe should be called \n",
        "    'country_name', 'gold', 'silver', and 'bronze'.  \n",
        "\n",
        "    There is no need to  specify row indexes for this dataframe \n",
        "    (in this case, the rows will automatically be assigned numbered indexes).\n",
        "    \n",
        "    Data source: https://olympics.com/en/olympic-games/sochi-2014/medals\n",
        "    '''\n",
        "\n",
        "    countries = ['Russian Fed.', 'Norway', 'Canada', 'United States',\n",
        "                 'Netherlands', 'Germany', 'Switzerland', 'Belarus',\n",
        "                 'Austria', 'France', 'Poland', 'China', 'Korea', \n",
        "                 'Sweden', 'Czech Republic', 'Slovenia', 'Japan',\n",
        "                 'Finland', 'Great Britain', 'Ukraine', 'Slovakia',\n",
        "                 'Italy', 'Latvia', 'Australia', 'Croatia', 'Kazakhstan']\n",
        "\n",
        "    gold = [13, 11, 10, 9, 8, 8, 6, 5, 4, 4, 4, 3, 3, 2, 2, 2, 1, 1, 1, 1, 1, 0, 0, 0, 0, 0]\n",
        "    silver = [11, 5, 10, 7, 7, 6, 3, 0, 8, 4, 1, 4, 3, 7, 4, 2, 4, 3, 1, 0, 0, 2, 2, 2, 1, 0]\n",
        "    bronze = [9, 10, 5, 12, 9, 5, 2, 1, 5, 7, 1, 2, 2, 6, 2, 4, 3, 1, 2, 1, 0, 6, 2, 1, 0, 1]\n",
        "    # Resposta\n",
        "    \n",
        "    d = {\n",
        "        'country_name': countries,\n",
        "         'gold': gold,\n",
        "         'silver': silver,\n",
        "         'bronze': bronze\n",
        "    }\n",
        "  \n",
        "    olympic_medal_counts_df = DataFrame(d)\n",
        "    return olympic_medal_counts_df\n",
        "\n",
        "# Chame a função create_dataframe e imprima na tela o resultado\n",
        "# Resposta\n",
        "\n",
        "create_dataframe()"
      ],
      "execution_count": 90,
      "outputs": [
        {
          "output_type": "execute_result",
          "data": {
            "text/html": [
              "<div>\n",
              "<style scoped>\n",
              "    .dataframe tbody tr th:only-of-type {\n",
              "        vertical-align: middle;\n",
              "    }\n",
              "\n",
              "    .dataframe tbody tr th {\n",
              "        vertical-align: top;\n",
              "    }\n",
              "\n",
              "    .dataframe thead th {\n",
              "        text-align: right;\n",
              "    }\n",
              "</style>\n",
              "<table border=\"1\" class=\"dataframe\">\n",
              "  <thead>\n",
              "    <tr style=\"text-align: right;\">\n",
              "      <th></th>\n",
              "      <th>country_name</th>\n",
              "      <th>gold</th>\n",
              "      <th>silver</th>\n",
              "      <th>bronze</th>\n",
              "    </tr>\n",
              "  </thead>\n",
              "  <tbody>\n",
              "    <tr>\n",
              "      <th>0</th>\n",
              "      <td>Russian Fed.</td>\n",
              "      <td>13</td>\n",
              "      <td>11</td>\n",
              "      <td>9</td>\n",
              "    </tr>\n",
              "    <tr>\n",
              "      <th>1</th>\n",
              "      <td>Norway</td>\n",
              "      <td>11</td>\n",
              "      <td>5</td>\n",
              "      <td>10</td>\n",
              "    </tr>\n",
              "    <tr>\n",
              "      <th>2</th>\n",
              "      <td>Canada</td>\n",
              "      <td>10</td>\n",
              "      <td>10</td>\n",
              "      <td>5</td>\n",
              "    </tr>\n",
              "    <tr>\n",
              "      <th>3</th>\n",
              "      <td>United States</td>\n",
              "      <td>9</td>\n",
              "      <td>7</td>\n",
              "      <td>12</td>\n",
              "    </tr>\n",
              "    <tr>\n",
              "      <th>4</th>\n",
              "      <td>Netherlands</td>\n",
              "      <td>8</td>\n",
              "      <td>7</td>\n",
              "      <td>9</td>\n",
              "    </tr>\n",
              "    <tr>\n",
              "      <th>5</th>\n",
              "      <td>Germany</td>\n",
              "      <td>8</td>\n",
              "      <td>6</td>\n",
              "      <td>5</td>\n",
              "    </tr>\n",
              "    <tr>\n",
              "      <th>6</th>\n",
              "      <td>Switzerland</td>\n",
              "      <td>6</td>\n",
              "      <td>3</td>\n",
              "      <td>2</td>\n",
              "    </tr>\n",
              "    <tr>\n",
              "      <th>7</th>\n",
              "      <td>Belarus</td>\n",
              "      <td>5</td>\n",
              "      <td>0</td>\n",
              "      <td>1</td>\n",
              "    </tr>\n",
              "    <tr>\n",
              "      <th>8</th>\n",
              "      <td>Austria</td>\n",
              "      <td>4</td>\n",
              "      <td>8</td>\n",
              "      <td>5</td>\n",
              "    </tr>\n",
              "    <tr>\n",
              "      <th>9</th>\n",
              "      <td>France</td>\n",
              "      <td>4</td>\n",
              "      <td>4</td>\n",
              "      <td>7</td>\n",
              "    </tr>\n",
              "    <tr>\n",
              "      <th>10</th>\n",
              "      <td>Poland</td>\n",
              "      <td>4</td>\n",
              "      <td>1</td>\n",
              "      <td>1</td>\n",
              "    </tr>\n",
              "    <tr>\n",
              "      <th>11</th>\n",
              "      <td>China</td>\n",
              "      <td>3</td>\n",
              "      <td>4</td>\n",
              "      <td>2</td>\n",
              "    </tr>\n",
              "    <tr>\n",
              "      <th>12</th>\n",
              "      <td>Korea</td>\n",
              "      <td>3</td>\n",
              "      <td>3</td>\n",
              "      <td>2</td>\n",
              "    </tr>\n",
              "    <tr>\n",
              "      <th>13</th>\n",
              "      <td>Sweden</td>\n",
              "      <td>2</td>\n",
              "      <td>7</td>\n",
              "      <td>6</td>\n",
              "    </tr>\n",
              "    <tr>\n",
              "      <th>14</th>\n",
              "      <td>Czech Republic</td>\n",
              "      <td>2</td>\n",
              "      <td>4</td>\n",
              "      <td>2</td>\n",
              "    </tr>\n",
              "    <tr>\n",
              "      <th>15</th>\n",
              "      <td>Slovenia</td>\n",
              "      <td>2</td>\n",
              "      <td>2</td>\n",
              "      <td>4</td>\n",
              "    </tr>\n",
              "    <tr>\n",
              "      <th>16</th>\n",
              "      <td>Japan</td>\n",
              "      <td>1</td>\n",
              "      <td>4</td>\n",
              "      <td>3</td>\n",
              "    </tr>\n",
              "    <tr>\n",
              "      <th>17</th>\n",
              "      <td>Finland</td>\n",
              "      <td>1</td>\n",
              "      <td>3</td>\n",
              "      <td>1</td>\n",
              "    </tr>\n",
              "    <tr>\n",
              "      <th>18</th>\n",
              "      <td>Great Britain</td>\n",
              "      <td>1</td>\n",
              "      <td>1</td>\n",
              "      <td>2</td>\n",
              "    </tr>\n",
              "    <tr>\n",
              "      <th>19</th>\n",
              "      <td>Ukraine</td>\n",
              "      <td>1</td>\n",
              "      <td>0</td>\n",
              "      <td>1</td>\n",
              "    </tr>\n",
              "    <tr>\n",
              "      <th>20</th>\n",
              "      <td>Slovakia</td>\n",
              "      <td>1</td>\n",
              "      <td>0</td>\n",
              "      <td>0</td>\n",
              "    </tr>\n",
              "    <tr>\n",
              "      <th>21</th>\n",
              "      <td>Italy</td>\n",
              "      <td>0</td>\n",
              "      <td>2</td>\n",
              "      <td>6</td>\n",
              "    </tr>\n",
              "    <tr>\n",
              "      <th>22</th>\n",
              "      <td>Latvia</td>\n",
              "      <td>0</td>\n",
              "      <td>2</td>\n",
              "      <td>2</td>\n",
              "    </tr>\n",
              "    <tr>\n",
              "      <th>23</th>\n",
              "      <td>Australia</td>\n",
              "      <td>0</td>\n",
              "      <td>2</td>\n",
              "      <td>1</td>\n",
              "    </tr>\n",
              "    <tr>\n",
              "      <th>24</th>\n",
              "      <td>Croatia</td>\n",
              "      <td>0</td>\n",
              "      <td>1</td>\n",
              "      <td>0</td>\n",
              "    </tr>\n",
              "    <tr>\n",
              "      <th>25</th>\n",
              "      <td>Kazakhstan</td>\n",
              "      <td>0</td>\n",
              "      <td>0</td>\n",
              "      <td>1</td>\n",
              "    </tr>\n",
              "  </tbody>\n",
              "</table>\n",
              "</div>"
            ],
            "text/plain": [
              "      country_name  gold  silver  bronze\n",
              "0     Russian Fed.    13      11       9\n",
              "1           Norway    11       5      10\n",
              "2           Canada    10      10       5\n",
              "3    United States     9       7      12\n",
              "4      Netherlands     8       7       9\n",
              "5          Germany     8       6       5\n",
              "6      Switzerland     6       3       2\n",
              "7          Belarus     5       0       1\n",
              "8          Austria     4       8       5\n",
              "9           France     4       4       7\n",
              "10          Poland     4       1       1\n",
              "11           China     3       4       2\n",
              "12           Korea     3       3       2\n",
              "13          Sweden     2       7       6\n",
              "14  Czech Republic     2       4       2\n",
              "15        Slovenia     2       2       4\n",
              "16           Japan     1       4       3\n",
              "17         Finland     1       3       1\n",
              "18   Great Britain     1       1       2\n",
              "19         Ukraine     1       0       1\n",
              "20        Slovakia     1       0       0\n",
              "21           Italy     0       2       6\n",
              "22          Latvia     0       2       2\n",
              "23       Australia     0       2       1\n",
              "24         Croatia     0       1       0\n",
              "25      Kazakhstan     0       0       1"
            ]
          },
          "metadata": {
            "tags": []
          },
          "execution_count": 90
        }
      ]
    },
    {
      "cell_type": "code",
      "metadata": {
        "id": "tfj-ywW7wPdV"
      },
      "source": [
        "    "
      ],
      "execution_count": 41,
      "outputs": []
    },
    {
      "cell_type": "markdown",
      "metadata": {
        "id": "KuYfaY3bsmNJ"
      },
      "source": [
        "## Colunas de um Dataframe"
      ]
    },
    {
      "cell_type": "markdown",
      "metadata": {
        "id": "8K9BKBH9xOx8"
      },
      "source": [
        "Agora que sabemos como criar uma estrutura de dados, por que não falamos sobre como podemos acessar os dados?\n",
        "\n",
        "Podemos operar em colunas específicas, chamando-as como se fossem uma chave do dicionário."
      ]
    },
    {
      "cell_type": "code",
      "metadata": {
        "id": "mEn7m7XSsq54"
      },
      "source": [
        "from pandas import Series, DataFrame\n",
        "\n",
        "d = {\n",
        "'name': Series(['Braund','Cummings','Heikkinen','Allen'], index=['a','b','c','d']),\n",
        "'age': Series([22,38,26,35], index=['a','b','c','d']),\n",
        "'fare': Series([7.25, 71.83, 8.05], index=['a', 'b', 'd']),\n",
        "'survived?': Series([False, True, True, False], index=['a','b','c','d'])\n",
        "}\n",
        "\n",
        "df = DataFrame(d)\n",
        "print(df)"
      ],
      "execution_count": null,
      "outputs": []
    },
    {
      "cell_type": "markdown",
      "metadata": {
        "id": "JPKiOIq3xjjj"
      },
      "source": [
        "Por exemplo, se quiséssemos apenas a coluna de nome desta estrutura de dados, eu poderia simplesmente digitar df name."
      ]
    },
    {
      "cell_type": "code",
      "metadata": {
        "id": "kvi92CSiwuwp"
      },
      "source": [
        "print(df['name'])"
      ],
      "execution_count": null,
      "outputs": []
    },
    {
      "cell_type": "markdown",
      "metadata": {
        "id": "n39RiIq2x5HZ"
      },
      "source": [
        "Também poderia obter mais de uma coluna, passando em uma lista de nomes de coluna, e não em um nome de coluna apenas.\n",
        "\n",
        "Por exemplo, digamos que eu quisesse as colunas de nome e idade. Diria df name, age."
      ]
    },
    {
      "cell_type": "code",
      "metadata": {
        "id": "cTcnq8I6xEDf"
      },
      "source": [
        "df[['name','age']]"
      ],
      "execution_count": null,
      "outputs": []
    },
    {
      "cell_type": "markdown",
      "metadata": {
        "id": "6aJScyHbzC80"
      },
      "source": [
        "Também poderia filtrar linhas específicas, chamando o método de localização de objetos e informando o índice da linha como argumento.\n",
        "\n",
        "Por exemplo, se eu quisesse somente a linha correspondente ao passageiro Braund,\n",
        "cujo índice é a, eu simplesmente diria df.loc a."
      ]
    },
    {
      "cell_type": "code",
      "metadata": {
        "id": "1hRaKOQizUV9"
      },
      "source": [
        "df.loc['a']"
      ],
      "execution_count": null,
      "outputs": []
    },
    {
      "cell_type": "markdown",
      "metadata": {
        "id": "K1putW9gyyij"
      },
      "source": [
        "Também podemos usar instruções verdadeiras ou falsas referentes às colunas da estrutura de dados para definir o subconjunto da estrutura de dados.\n",
        "\n",
        "Por exemplo, digamos que eu quisesse somente linhas desta estrutura de dados nas quais a idade do passageiro fosse maior ou igual a 30.\n",
        "\n",
        "Eu diria simplesmente df onde df age >= 30."
      ]
    },
    {
      "cell_type": "code",
      "metadata": {
        "id": "uGrsWRTh0xJl"
      },
      "source": [
        "print(df)\n",
        "print('')\n",
        "df[df['age'] >= 30]\n",
        "# Observe que apenas as linhas b e d foram exibidas,\n",
        "# pois são as linhas em que os passageiros tinham de fato idade igual ou superior\n",
        "# a 30 anos."
      ],
      "execution_count": null,
      "outputs": []
    },
    {
      "cell_type": "markdown",
      "metadata": {
        "id": "I4VFAC531x-p"
      },
      "source": [
        "Esta capacidade de definir um subconjunto da estrutura de dados com base nas instruções verdadeiras ou falsas no índice não se limita à linha.\n",
        "\n",
        "Também posso executar esta operação em colunas específicas.\n",
        "\n",
        "Por exemplo, digamos que eu só quisesse as informações de sobrevivência\n",
        "para estas duas linhas, b e d.\n",
        "\n",
        "Eu diria simplesmente df survived df age >= 30."
      ]
    },
    {
      "cell_type": "code",
      "metadata": {
        "id": "3rcIWGdn2cQc"
      },
      "source": [
        "df['survived?'][df['age'] >= 30]"
      ],
      "execution_count": null,
      "outputs": []
    },
    {
      "cell_type": "markdown",
      "metadata": {
        "id": "bzuXeiS-3h_w"
      },
      "source": [
        "## Playground de Pandas: Índices em Dataframes"
      ]
    },
    {
      "cell_type": "code",
      "metadata": {
        "id": "NWLGRmwd3pXj"
      },
      "source": [
        "import pandas as pd\n",
        "\n",
        "'''\n",
        "You can think of a DataFrame as a group of Series that share an index.\n",
        "This makes it easy to select specific columns that you want from the \n",
        "DataFrame. \n",
        "\n",
        "Also a couple pointers:\n",
        "1) Selecting a single column from the DataFrame will return a Series\n",
        "2) Selecting multiple columns from the DataFrame will return a DataFrame\n",
        "\n",
        "*This playground is inspired by Greg Reda's post on Intro to Pandas Data Structures:\n",
        "http://www.gregreda.com/2013/10/26/intro-to-pandas-data-structures/\n",
        "'''\n",
        "# Change False to True to see Series indexing in action\n",
        "if (False):\n",
        "    data = {'year': [2010, 2011, 2012, 2011, 2012, 2010, 2011, 2012],\n",
        "            'team': ['Bears', 'Bears', 'Bears', 'Packers', 'Packers', 'Lions',\n",
        "                     'Lions', 'Lions'],\n",
        "            'wins': [11, 8, 10, 15, 11, 6, 10, 4],\n",
        "            'losses': [5, 8, 6, 1, 5, 10, 6, 12]}\n",
        "    football = pd.DataFrame(data)\n",
        "    print(football)\n",
        "    print('')\n",
        "    print(football['year'])\n",
        "    print('')\n",
        "    print(football.year)  # shorthand for football['year']\n",
        "    print('')\n",
        "    print(football[['year', 'wins', 'losses']])\n",
        "\n",
        "'''\n",
        "Row selection can be done through multiple ways.\n",
        "\n",
        "Some of the basic and common methods are:\n",
        "   1) Slicing\n",
        "   2) An individual index (through the functions iloc or loc)\n",
        "   3) Boolean indexing\n",
        "\n",
        "You can also combine multiple selection requirements through boolean\n",
        "operators like & (and) or | (or)\n",
        "'''\n",
        "# Change False to True to see boolean indexing in action\n",
        "if(True):\n",
        "    data = {'year': [2010, 2011, 2012, 2011, 2012, 2010, 2011, 2012],\n",
        "            'team': ['Bears', 'Bears', 'Bears', 'Packers', 'Packers', 'Lions',\n",
        "                     'Lions', 'Lions'],\n",
        "            'wins': [11, 8, 10, 15, 11, 6, 10, 4],\n",
        "            'losses': [5, 8, 6, 1, 5, 10, 6, 12]}\n",
        "    football = pd.DataFrame(data)\n",
        "    print(football)\n",
        "    print('')\n",
        "    print(football.iloc[[0]])\n",
        "    print('')\n",
        "    print(football.loc[[0]])\n",
        "    print('')\n",
        "    print(football[3:5])\n",
        "    print('')\n",
        "    print(football[football.wins > 10])\n",
        "    print('')\n",
        "    print(football[(football.wins > 10) & (football.team == \"Packers\")])\n"
      ],
      "execution_count": null,
      "outputs": []
    },
    {
      "cell_type": "markdown",
      "metadata": {
        "id": "QDzROicWCh8o"
      },
      "source": [
        "## Pandas: funções vetorizadas"
      ]
    },
    {
      "cell_type": "markdown",
      "metadata": {
        "id": "RVPnSVhsJZ0S"
      },
      "source": [
        "O Pandas também permite que você opere em sua estrutura de dados de uma forma vetorizada e item por item.\n",
        "O que significa operar em estrutura de dados de uma forma vetorizada?\n",
        "Digamos que temos a seguinte estrutura de dados:"
      ]
    },
    {
      "cell_type": "code",
      "metadata": {
        "id": "9cLnCDFyCoRg"
      },
      "source": [
        "d = {'one': Series([1,2,3], index=['a','b','c']),\n",
        "    'two': Series([1,2,3,4], index=['a','b','c','d'])}\n",
        "df = DataFrame(d)\n",
        "df"
      ],
      "execution_count": null,
      "outputs": []
    },
    {
      "cell_type": "markdown",
      "metadata": {
        "id": "4DNXogswDUKK"
      },
      "source": [
        "Esta estrutura de dados tem 2 colunas, 1 e 2.\n",
        "\n",
        "E 4 linhas, a, b, c e d.\n",
        "\n",
        "Todos os valores são inteiros.\n",
        "\n",
        "Podemos chamar a estrutura de dados e aplicar uma função arbitrária.\n",
        "Por exemplo, numpy.mean para executar essa função no vetor que está em cada coluna.\n",
        "\n",
        "Quando chamamos df.apply numpy.mean, o que recebemos é a média de cada coluna do df."
      ]
    },
    {
      "cell_type": "code",
      "metadata": {
        "id": "R9FOEhT5Eusp"
      },
      "source": [
        "import numpy as np\n",
        "df.apply(np.mean)"
      ],
      "execution_count": null,
      "outputs": []
    },
    {
      "cell_type": "markdown",
      "metadata": {
        "id": "rNp08V5gGcMt"
      },
      "source": [
        "Isso é uma nova estrutura de dados.\n",
        "\n",
        "Há também algumas operações que simplesmente não podem ser vetorizadas dessa forma.\n",
        "Ou seja, usar um array NumPy como sua entrada e, em seguida, retornar outro array ou valor.\n",
        "\n",
        "Também podemos, neste caso, aplicar um mapa em colunas específicas. Ou aplicar um mapa a estrutura de dados completas.\n",
        "\n",
        "Esses métodos aceitarão funções que utilizam um valor único e retornam um valor único.\n",
        "\n",
        "Por exemplo, suponhamos que dissemos df one.map lambda x x >= 1."
      ]
    },
    {
      "cell_type": "code",
      "metadata": {
        "id": "5or6H-qbGvMQ",
        "colab": {
          "base_uri": "https://localhost:8080/"
        },
        "outputId": "789a8a8d-5b18-4c53-d5e4-4ebebbba2336"
      },
      "source": [
        "df['one'].map(lambda x: x >= 1)"
      ],
      "execution_count": 95,
      "outputs": [
        {
          "output_type": "execute_result",
          "data": {
            "text/plain": [
              "a     True\n",
              "b     True\n",
              "c     True\n",
              "d    False\n",
              "Name: one, dtype: bool"
            ]
          },
          "metadata": {
            "tags": []
          },
          "execution_count": 95
        }
      ]
    },
    {
      "cell_type": "markdown",
      "metadata": {
        "id": "JzWygHtOHak-"
      },
      "source": [
        "O que foi feito foi passar por cada valor único na coluna 1 e avaliar se esse valor é maior ou igual a 1.\n",
        "\n",
        "Se chamarmos df.applymap lambda x x >=1, a mesma função será avaliada em cada valor único da estrutura de dados. E não apenas na coluna 1."
      ]
    },
    {
      "cell_type": "code",
      "metadata": {
        "id": "DHqp7BeKH6hB"
      },
      "source": [
        "df.applymap(lambda x: x >= 1)"
      ],
      "execution_count": null,
      "outputs": []
    },
    {
      "cell_type": "markdown",
      "metadata": {
        "id": "5GXByZIsItMn"
      },
      "source": [
        "Um pouco mais sobre lambda: funções lambda são pequenas funções alinhadas em Python, definidas no mesmo momento em que são usadas. Por exemplo: lambda x: x>= 1 terá uma entrada x e devolve x >= 1, um valor booleano que pode valer True ou False.\n",
        "\n",
        "Neste exemplo, map() e applymap() criam uma nova série ou dataframe, aplicando uma função lambda em cada elemento da estrutura de dados original. Observe que map() só pode ser usada em uma série e devolve uma nova série, enquanto applymap() só pode ser usada em um dataframe, para devolver um novo dataframe.\n",
        "\n",
        "Para mais informações, consulte a [documentação oficial sobre funções lambda (em inglês)](https://docs.python.org/3.6/tutorial/controlflow.html#lambda-expressions)."
      ]
    },
    {
      "cell_type": "markdown",
      "metadata": {
        "id": "7KJV_ijIKR3j"
      },
      "source": [
        "## 1.10 - Exercício: média de medalhas de ouro, prata e bronze (submeter pelo Canvas)"
      ]
    },
    {
      "cell_type": "markdown",
      "metadata": {
        "id": "zsPSM16ZMjqn"
      },
      "source": [
        "Tente agora operar nossos dados de contagem de medalhas de Sochi usando vetores.\n",
        "\n",
        "Usando Pandas, NumPy e o método de aplicação da estrutura de dados, crie uma estrutura de dados denominada avg_medal_count que indica o número médio de medalhas de ouro, prata e bronze que foram ganhas entre países que ganharam pelo menos uma medalha nas olímpiadas de Sochi em 2014.\n",
        "\n",
        "Utilize o mesmo conjunto de dados do exercício 1.9."
      ]
    },
    {
      "cell_type": "code",
      "metadata": {
        "id": "VLJZSr57K9fR",
        "colab": {
          "base_uri": "https://localhost:8080/",
          "height": 893
        },
        "outputId": "40a69bca-aa7c-4268-e577-3695e711a1c3"
      },
      "source": [
        "# 1.10.1\n",
        "# Para chegar no resultado de teste abaixo, incluir um país com zero medalhas\n",
        "# Resposta\n",
        "\n",
        "data = create_dataframe()\n",
        "data = data.append({'country_name': 'Brazil', 'gold':0, 'silver':0, 'bronze':0}, ignore_index= True)\n",
        "data\n"
      ],
      "execution_count": 91,
      "outputs": [
        {
          "output_type": "execute_result",
          "data": {
            "text/html": [
              "<div>\n",
              "<style scoped>\n",
              "    .dataframe tbody tr th:only-of-type {\n",
              "        vertical-align: middle;\n",
              "    }\n",
              "\n",
              "    .dataframe tbody tr th {\n",
              "        vertical-align: top;\n",
              "    }\n",
              "\n",
              "    .dataframe thead th {\n",
              "        text-align: right;\n",
              "    }\n",
              "</style>\n",
              "<table border=\"1\" class=\"dataframe\">\n",
              "  <thead>\n",
              "    <tr style=\"text-align: right;\">\n",
              "      <th></th>\n",
              "      <th>country_name</th>\n",
              "      <th>gold</th>\n",
              "      <th>silver</th>\n",
              "      <th>bronze</th>\n",
              "    </tr>\n",
              "  </thead>\n",
              "  <tbody>\n",
              "    <tr>\n",
              "      <th>0</th>\n",
              "      <td>Russian Fed.</td>\n",
              "      <td>13</td>\n",
              "      <td>11</td>\n",
              "      <td>9</td>\n",
              "    </tr>\n",
              "    <tr>\n",
              "      <th>1</th>\n",
              "      <td>Norway</td>\n",
              "      <td>11</td>\n",
              "      <td>5</td>\n",
              "      <td>10</td>\n",
              "    </tr>\n",
              "    <tr>\n",
              "      <th>2</th>\n",
              "      <td>Canada</td>\n",
              "      <td>10</td>\n",
              "      <td>10</td>\n",
              "      <td>5</td>\n",
              "    </tr>\n",
              "    <tr>\n",
              "      <th>3</th>\n",
              "      <td>United States</td>\n",
              "      <td>9</td>\n",
              "      <td>7</td>\n",
              "      <td>12</td>\n",
              "    </tr>\n",
              "    <tr>\n",
              "      <th>4</th>\n",
              "      <td>Netherlands</td>\n",
              "      <td>8</td>\n",
              "      <td>7</td>\n",
              "      <td>9</td>\n",
              "    </tr>\n",
              "    <tr>\n",
              "      <th>5</th>\n",
              "      <td>Germany</td>\n",
              "      <td>8</td>\n",
              "      <td>6</td>\n",
              "      <td>5</td>\n",
              "    </tr>\n",
              "    <tr>\n",
              "      <th>6</th>\n",
              "      <td>Switzerland</td>\n",
              "      <td>6</td>\n",
              "      <td>3</td>\n",
              "      <td>2</td>\n",
              "    </tr>\n",
              "    <tr>\n",
              "      <th>7</th>\n",
              "      <td>Belarus</td>\n",
              "      <td>5</td>\n",
              "      <td>0</td>\n",
              "      <td>1</td>\n",
              "    </tr>\n",
              "    <tr>\n",
              "      <th>8</th>\n",
              "      <td>Austria</td>\n",
              "      <td>4</td>\n",
              "      <td>8</td>\n",
              "      <td>5</td>\n",
              "    </tr>\n",
              "    <tr>\n",
              "      <th>9</th>\n",
              "      <td>France</td>\n",
              "      <td>4</td>\n",
              "      <td>4</td>\n",
              "      <td>7</td>\n",
              "    </tr>\n",
              "    <tr>\n",
              "      <th>10</th>\n",
              "      <td>Poland</td>\n",
              "      <td>4</td>\n",
              "      <td>1</td>\n",
              "      <td>1</td>\n",
              "    </tr>\n",
              "    <tr>\n",
              "      <th>11</th>\n",
              "      <td>China</td>\n",
              "      <td>3</td>\n",
              "      <td>4</td>\n",
              "      <td>2</td>\n",
              "    </tr>\n",
              "    <tr>\n",
              "      <th>12</th>\n",
              "      <td>Korea</td>\n",
              "      <td>3</td>\n",
              "      <td>3</td>\n",
              "      <td>2</td>\n",
              "    </tr>\n",
              "    <tr>\n",
              "      <th>13</th>\n",
              "      <td>Sweden</td>\n",
              "      <td>2</td>\n",
              "      <td>7</td>\n",
              "      <td>6</td>\n",
              "    </tr>\n",
              "    <tr>\n",
              "      <th>14</th>\n",
              "      <td>Czech Republic</td>\n",
              "      <td>2</td>\n",
              "      <td>4</td>\n",
              "      <td>2</td>\n",
              "    </tr>\n",
              "    <tr>\n",
              "      <th>15</th>\n",
              "      <td>Slovenia</td>\n",
              "      <td>2</td>\n",
              "      <td>2</td>\n",
              "      <td>4</td>\n",
              "    </tr>\n",
              "    <tr>\n",
              "      <th>16</th>\n",
              "      <td>Japan</td>\n",
              "      <td>1</td>\n",
              "      <td>4</td>\n",
              "      <td>3</td>\n",
              "    </tr>\n",
              "    <tr>\n",
              "      <th>17</th>\n",
              "      <td>Finland</td>\n",
              "      <td>1</td>\n",
              "      <td>3</td>\n",
              "      <td>1</td>\n",
              "    </tr>\n",
              "    <tr>\n",
              "      <th>18</th>\n",
              "      <td>Great Britain</td>\n",
              "      <td>1</td>\n",
              "      <td>1</td>\n",
              "      <td>2</td>\n",
              "    </tr>\n",
              "    <tr>\n",
              "      <th>19</th>\n",
              "      <td>Ukraine</td>\n",
              "      <td>1</td>\n",
              "      <td>0</td>\n",
              "      <td>1</td>\n",
              "    </tr>\n",
              "    <tr>\n",
              "      <th>20</th>\n",
              "      <td>Slovakia</td>\n",
              "      <td>1</td>\n",
              "      <td>0</td>\n",
              "      <td>0</td>\n",
              "    </tr>\n",
              "    <tr>\n",
              "      <th>21</th>\n",
              "      <td>Italy</td>\n",
              "      <td>0</td>\n",
              "      <td>2</td>\n",
              "      <td>6</td>\n",
              "    </tr>\n",
              "    <tr>\n",
              "      <th>22</th>\n",
              "      <td>Latvia</td>\n",
              "      <td>0</td>\n",
              "      <td>2</td>\n",
              "      <td>2</td>\n",
              "    </tr>\n",
              "    <tr>\n",
              "      <th>23</th>\n",
              "      <td>Australia</td>\n",
              "      <td>0</td>\n",
              "      <td>2</td>\n",
              "      <td>1</td>\n",
              "    </tr>\n",
              "    <tr>\n",
              "      <th>24</th>\n",
              "      <td>Croatia</td>\n",
              "      <td>0</td>\n",
              "      <td>1</td>\n",
              "      <td>0</td>\n",
              "    </tr>\n",
              "    <tr>\n",
              "      <th>25</th>\n",
              "      <td>Kazakhstan</td>\n",
              "      <td>0</td>\n",
              "      <td>0</td>\n",
              "      <td>1</td>\n",
              "    </tr>\n",
              "    <tr>\n",
              "      <th>26</th>\n",
              "      <td>Brazil</td>\n",
              "      <td>0</td>\n",
              "      <td>0</td>\n",
              "      <td>0</td>\n",
              "    </tr>\n",
              "  </tbody>\n",
              "</table>\n",
              "</div>"
            ],
            "text/plain": [
              "      country_name  gold  silver  bronze\n",
              "0     Russian Fed.    13      11       9\n",
              "1           Norway    11       5      10\n",
              "2           Canada    10      10       5\n",
              "3    United States     9       7      12\n",
              "4      Netherlands     8       7       9\n",
              "5          Germany     8       6       5\n",
              "6      Switzerland     6       3       2\n",
              "7          Belarus     5       0       1\n",
              "8          Austria     4       8       5\n",
              "9           France     4       4       7\n",
              "10          Poland     4       1       1\n",
              "11           China     3       4       2\n",
              "12           Korea     3       3       2\n",
              "13          Sweden     2       7       6\n",
              "14  Czech Republic     2       4       2\n",
              "15        Slovenia     2       2       4\n",
              "16           Japan     1       4       3\n",
              "17         Finland     1       3       1\n",
              "18   Great Britain     1       1       2\n",
              "19         Ukraine     1       0       1\n",
              "20        Slovakia     1       0       0\n",
              "21           Italy     0       2       6\n",
              "22          Latvia     0       2       2\n",
              "23       Australia     0       2       1\n",
              "24         Croatia     0       1       0\n",
              "25      Kazakhstan     0       0       1\n",
              "26          Brazil     0       0       0"
            ]
          },
          "metadata": {
            "tags": []
          },
          "execution_count": 91
        }
      ]
    },
    {
      "cell_type": "code",
      "metadata": {
        "id": "BG7S-36TTqXS",
        "colab": {
          "base_uri": "https://localhost:8080/"
        },
        "outputId": "bbb72dd5-a323-4471-9e3f-9ca9020d0aaf"
      },
      "source": [
        "# 1.10.2\n",
        "# Filtrar países com pelo menos uma medalha,\n",
        "# para somente depois calcular a média de cada tipo de medalha\n",
        "\n",
        "# Resposta\n",
        "data= data[(data['gold'] >= 1) | (data['silver'] >= 1) | (data['bronze'] >= 1)]\n",
        "data[['gold', 'silver', 'bronze']].apply(np.mean)"
      ],
      "execution_count": 99,
      "outputs": [
        {
          "output_type": "execute_result",
          "data": {
            "text/plain": [
              "gold      3.807692\n",
              "silver    3.730769\n",
              "bronze    3.807692\n",
              "dtype: float64"
            ]
          },
          "metadata": {
            "tags": []
          },
          "execution_count": 99
        }
      ]
    }
  ]
}